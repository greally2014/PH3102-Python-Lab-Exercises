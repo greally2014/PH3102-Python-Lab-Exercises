{
 "cells": [
  {
   "cell_type": "code",
   "execution_count": 1,
   "metadata": {},
   "outputs": [
    {
     "data": {
      "text/plain": [
       "<Figure size 640x480 with 3 Axes>"
      ]
     },
     "metadata": {},
     "output_type": "display_data"
    },
    {
     "data": {
      "text/plain": [
       "(1.0, 1.0, 1.0)"
      ]
     },
     "execution_count": 1,
     "metadata": {},
     "output_type": "execute_result"
    }
   ],
   "source": [
    "#Library calls here\n",
    "import matplotlib.pyplot as plt\n",
    "import math\n",
    "import numpy as np\n",
    "import matplotlib.patches as patches\n",
    "from copy import copy\n",
    "import scipy\n",
    "from scipy.integrate import simps      #Hint!!!\n",
    "\n",
    "\n",
    "# Load in our data\n",
    "with open('Probability.txt') as Probability:\n",
    "    lines = Probability.read().splitlines()\n",
    "\n",
    "\n",
    "#Set up our data arrays\n",
    "x_Values = []                           # Set up array for x-axis values \n",
    "ProbDist1 = []                          # Set up array for Probability Distribution for n=1 \n",
    "ProbDist2 = []                          # Set up array for Probability Distribution for n=2 \n",
    "ProbDist3 = []                          # Set up array for Probability Distribution for n=3 \n",
    "ProbDist11 = []                         # These three new arrays will contain the data for the\n",
    "ProbDist22 = []                         # normalized functions\n",
    "ProbDist33 = []  \n",
    "AllDistributions = []\n",
    "DistArea = [] \n",
    "\n",
    "# Parse our data into arrays\n",
    "for line in lines:\n",
    "    Columns = line.split()    \n",
    "    x_Values.append(float(Columns[0]))   # Append to array for x-axis values\n",
    "    ProbDist1.append(float(Columns[1]))  # Append to Probability Distribution for n=1 \n",
    "    ProbDist2.append(float(Columns[2]))  # Append to Probability Distribution for n=2 \n",
    "    ProbDist3.append(float(Columns[3]))  # Append to Probability Distribution for n=3 \n",
    "  \n",
    "    \n",
    "Area1 = simps(ProbDist1,dx=1)  # These are the area calculations using simps, by dividing the entries\n",
    "Area2 = simps(ProbDist2,dx=1)  # in the ProbDists by these values I can normalize the functions\n",
    "Area3 = simps(ProbDist3,dx=1)\n",
    "\n",
    "for line in ProbDist1:              # I cycle through every value in the original data and divide by the graph area\n",
    "    ProbDist11.append(line/Area1)   # This generates the data for the normalized graphs\n",
    "for line in ProbDist2:\n",
    "    ProbDist22.append(line/Area2)   # I do this for all three graphs\n",
    "for line in ProbDist3:\n",
    "    ProbDist33.append(line/Area3)   \n",
    "    \n",
    "AllDistributions = np.transpose([x_Values, ProbDist11,ProbDist22, ProbDist33])  # Create a 2D array of all of the values read in.\n",
    "                                                                                # Notice I changed the data to my new data sets\n",
    "\n",
    "\n",
    "# Plot the probability for first 3 eigenstates\n",
    "fig, axs = plt.subplots(nrows=3)\n",
    "plotcounter = 0;   \n",
    "rect = patches.Rectangle((-1.5,0),1.0,1,linewidth=3,edgecolor='r',facecolor='none')   #Draws our well dimensions on the left side\n",
    "rect1 = patches.Rectangle((0.5,0),1.0,1,linewidth=3,edgecolor='r',facecolor='none')   #Draws our well dimensions on the right side\n",
    "\n",
    "\n",
    "for n in range(3):    \n",
    "    axs[plotcounter].grid()                                     # Apply a grid for each subplot\n",
    "    axs[plotcounter].plot(AllDistributions[:,0],AllDistributions[:,n+1], label=\"n = %.0f\"%(n+1))\n",
    "    axs[plotcounter].legend(loc=\"upper right\")                  # Apply a legend for each subplot\n",
    "    new_rect=copy(rect)\n",
    "    new_rect1=copy(rect1)\n",
    "    axs[n].add_patch(new_rect), axs[n].add_patch(new_rect1)     # Plot the rectangles on each subplot\n",
    "    axs[n].set_ylim((0, 0.006))                                   # Set plot y-axis limits\n",
    "    axs[n].set_xlim((-1.5, 1.5))                                # Set plot x-axis limits\n",
    "    plotcounter+=1            \n",
    "axs[1].set_ylabel('$\\Psi(x)^2$', rotation='vertical', fontsize = 15)\n",
    "axs[2].set_xlabel('x, $x/L$')\n",
    "axs[0].set_title('Probability Distributions')\n",
    "\n",
    "plt.show()\n",
    "plt.rcParams['figure.figsize'] = (12,15)\n",
    "simps(ProbDist11,dx=1), simps(ProbDist22,dx=1), simps(ProbDist33,dx=1) # This shows the area under each graph telling me they have been normalized"
   ]
  },
  {
   "cell_type": "code",
   "execution_count": null,
   "metadata": {
    "collapsed": true
   },
   "outputs": [],
   "source": []
  }
 ],
 "metadata": {
  "kernelspec": {
   "display_name": "Python 3",
   "language": "python",
   "name": "python3"
  },
  "language_info": {
   "codemirror_mode": {
    "name": "ipython",
    "version": 3
   },
   "file_extension": ".py",
   "mimetype": "text/x-python",
   "name": "python",
   "nbconvert_exporter": "python",
   "pygments_lexer": "ipython3",
   "version": "3.6.5"
  }
 },
 "nbformat": 4,
 "nbformat_minor": 2
}
